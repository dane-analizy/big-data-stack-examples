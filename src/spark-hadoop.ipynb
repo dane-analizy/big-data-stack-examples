{
 "cells": [
  {
   "cell_type": "code",
   "execution_count": null,
   "id": "cf1934df",
   "metadata": {},
   "outputs": [],
   "source": [
    "from pyspark.sql import SparkSession\n",
    "from utils.config import load_config"
   ]
  },
  {
   "cell_type": "code",
   "execution_count": null,
   "id": "6bb03921",
   "metadata": {},
   "outputs": [],
   "source": [
    "# Wczytaj konfigurację\n",
    "config = load_config(\"../config.yaml\")"
   ]
  },
  {
   "cell_type": "code",
   "execution_count": null,
   "id": "8b27611c",
   "metadata": {},
   "outputs": [],
   "source": [
    "sh_conf = config[\"spark_hadoop\"]\n",
    "\n",
    "spark_master = sh_conf[\"spark_master\"]\n",
    "hdfs_namenode = sh_conf[\"hdfs_namenode\"]\n",
    "\n",
    "\n",
    "input_path= \"/input/json/\"\n",
    "output_path= \"/output/parquet/\"\n",
    "\n",
    "# Składamy ścieżki HDFS\n",
    "hdfs_input = f\"hdfs://{hdfs_namenode}{input_path}\"\n",
    "hdfs_output = f\"hdfs://{hdfs_namenode}{output_path}\""
   ]
  },
  {
   "cell_type": "code",
   "execution_count": null,
   "id": "80da9812",
   "metadata": {},
   "outputs": [],
   "source": [
    "spark_master"
   ]
  },
  {
   "cell_type": "code",
   "execution_count": null,
   "id": "02bd6602",
   "metadata": {},
   "outputs": [],
   "source": [
    "hdfs_input"
   ]
  },
  {
   "cell_type": "code",
   "execution_count": null,
   "id": "e2c64c02",
   "metadata": {},
   "outputs": [],
   "source": [
    "# Inicjalizacja SparkSession\n",
    "spark = (\n",
    "    SparkSession.builder.appName(\"JSON to Parquet\").master(spark_master).getOrCreate()\n",
    ")"
   ]
  },
  {
   "cell_type": "code",
   "execution_count": null,
   "id": "757f6a4e",
   "metadata": {},
   "outputs": [],
   "source": [
    "# Wczytaj JSON-y z HDFS\n",
    "df = spark.read.json(hdfs_input)"
   ]
  },
  {
   "cell_type": "code",
   "execution_count": null,
   "id": "09aa379e",
   "metadata": {},
   "outputs": [],
   "source": [
    "df.printSchema()"
   ]
  },
  {
   "cell_type": "code",
   "execution_count": null,
   "id": "47796998",
   "metadata": {},
   "outputs": [],
   "source": [
    "# Zapisz do Parquet w HDFS\n",
    "df.write.mode(\"overwrite\").parquet(hdfs_output)\n",
    "\n",
    "spark.stop()"
   ]
  }
 ],
 "metadata": {
  "kernelspec": {
   "display_name": "big-data-stack-examples",
   "language": "python",
   "name": "python3"
  },
  "language_info": {
   "codemirror_mode": {
    "name": "ipython",
    "version": 3
   },
   "file_extension": ".py",
   "mimetype": "text/x-python",
   "name": "python",
   "nbconvert_exporter": "python",
   "pygments_lexer": "ipython3",
   "version": "3.13.1"
  }
 },
 "nbformat": 4,
 "nbformat_minor": 5
}
