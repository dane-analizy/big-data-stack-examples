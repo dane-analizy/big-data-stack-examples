{
 "cells": [
  {
   "cell_type": "code",
   "execution_count": null,
   "id": "cf1934df",
   "metadata": {},
   "outputs": [],
   "source": [
    "from pyspark.sql import SparkSession\n",
    "from pyspark.sql import functions as F\n",
    "\n",
    "from utils.config import load_config"
   ]
  },
  {
   "cell_type": "code",
   "execution_count": null,
   "id": "6bb03921",
   "metadata": {},
   "outputs": [],
   "source": [
    "config = load_config(\"config.yaml\")"
   ]
  },
  {
   "cell_type": "code",
   "execution_count": null,
   "id": "8b27611c",
   "metadata": {},
   "outputs": [],
   "source": [
    "sh_conf = config[\"spark_hadoop\"]\n",
    "\n",
    "spark_master = sh_conf[\"spark_master\"]\n",
    "hdfs_namenode = sh_conf[\"hdfs_namenode\"]\n",
    "\n",
    "hdfs_input = f\"{hdfs_namenode}/input/json/\"\n",
    "\n",
    "hdfs_output_v1 = f\"{hdfs_namenode}/output/data.parquet\"\n",
    "hdfs_output_v2 = f\"{hdfs_namenode}/output/data_v2.parquet\"\n",
    "hdfs_output_orc = f\"{hdfs_namenode}/output/data_v2.orc\"\n"
   ]
  },
  {
   "cell_type": "code",
   "execution_count": null,
   "id": "e2c64c02",
   "metadata": {},
   "outputs": [],
   "source": [
    "# Inicjalizacja SparkSession\n",
    "spark = (\n",
    "    SparkSession\n",
    "    .builder\n",
    "    .appName(\"JSON to Parquet\")\n",
    "    .master(spark_master)\n",
    "    .getOrCreate()\n",
    ")"
   ]
  },
  {
   "cell_type": "code",
   "execution_count": null,
   "id": "efa5ce24-aeca-42a7-9813-1ff4a64b8c93",
   "metadata": {},
   "outputs": [],
   "source": [
    "spark"
   ]
  },
  {
   "cell_type": "code",
   "execution_count": null,
   "id": "757f6a4e",
   "metadata": {},
   "outputs": [],
   "source": [
    "%%time\n",
    "\n",
    "df = spark.read.json(hdfs_input)"
   ]
  },
  {
   "cell_type": "code",
   "execution_count": null,
   "id": "2d4c0730-9b55-4c6a-b39c-305e4b4f2923",
   "metadata": {},
   "outputs": [],
   "source": [
    "%%time\n",
    "\n",
    "df.count()"
   ]
  },
  {
   "cell_type": "code",
   "execution_count": null,
   "id": "09aa379e",
   "metadata": {},
   "outputs": [],
   "source": [
    "%%time\n",
    "\n",
    "df.printSchema()"
   ]
  },
  {
   "cell_type": "code",
   "execution_count": null,
   "id": "0233deab-7a27-4575-9119-bc66faf97176",
   "metadata": {},
   "outputs": [],
   "source": [
    "%%time\n",
    "\n",
    "df.show()"
   ]
  },
  {
   "cell_type": "code",
   "execution_count": null,
   "id": "de485da7-1103-419d-aa3e-5f9c54b2620d",
   "metadata": {},
   "outputs": [],
   "source": [
    "%%time\n",
    "\n",
    "df_flat = df \\\n",
    "    .withColumn(\"clouds_all\", F.col(\"clouds.all\")) \\\n",
    "    .withColumn(\"coord_lat\", F.col(\"coord.lat\")) \\\n",
    "    .withColumn(\"coord_lon\", F.col(\"coord.lon\")) \\\n",
    "    .withColumn(\"main_feels_like\", F.col(\"main.feels_like\")) \\\n",
    "    .withColumn(\"main_grnd_level\", F.col(\"main.grnd_level\")) \\\n",
    "    .withColumn(\"main_humidity\", F.col(\"main.humidity\")) \\\n",
    "    .withColumn(\"main_pressure\", F.col(\"main.pressure\")) \\\n",
    "    .withColumn(\"main_sea_level\", F.col(\"main.sea_level\")) \\\n",
    "    .withColumn(\"main_temp\", F.col(\"main.temp\")) \\\n",
    "    .withColumn(\"main_temp_max\", F.col(\"main.temp_max\")) \\\n",
    "    .withColumn(\"main_temp_min\", F.col(\"main.temp_min\")) \\\n",
    "    .withColumn(\"rain_1h\", F.col(\"rain.`1h`\")) \\\n",
    "    .withColumn(\"sys_sunrise\", F.col(\"sys.sunrise\")) \\\n",
    "    .withColumn(\"sys_sunset\", F.col(\"sys.sunset\")) \\\n",
    "    .withColumn(\"wind_deg\", F.col(\"wind.deg\")) \\\n",
    "    .withColumn(\"wind_gust\", F.col(\"wind.gust\")) \\\n",
    "    .withColumn(\"wind_speed\", F.col(\"wind.speed\")) \\\n",
    "    .withColumn(\"weather_exploded\", F.explode_outer(\"weather\")) \\\n",
    "    .withColumn(\"weather_id\", F.col(\"weather_exploded.id\")) \\\n",
    "    .withColumn(\"weather_main\", F.col(\"weather_exploded.main\")) \\\n",
    "    .withColumn(\"weather_description\", F.col(\"weather_exploded.description\")) \\\n",
    "    .drop(\"clouds\", \"coord\", \"main\", \"rain\", \"sys\", \"wind\", \"weather\", \"weather_exploded\", \"base\", \"cod\", \"timezone\")\n"
   ]
  },
  {
   "cell_type": "code",
   "execution_count": null,
   "id": "373606c9-7c91-4e5f-858e-8d13f8d6545e",
   "metadata": {},
   "outputs": [],
   "source": [
    "df_flat.printSchema()"
   ]
  },
  {
   "cell_type": "code",
   "execution_count": null,
   "id": "e3e3d08b-cb04-4a11-8f50-a61bb06fee37",
   "metadata": {
    "scrolled": true
   },
   "outputs": [],
   "source": [
    "%%time\n",
    "\n",
    "df_flat.show()"
   ]
  },
  {
   "cell_type": "code",
   "execution_count": null,
   "id": "81c0b5b2-6785-4423-aeca-b37fb78ac139",
   "metadata": {},
   "outputs": [],
   "source": [
    "%%time\n",
    "\n",
    "df_flat = df_flat \\\n",
    "    .withColumn(\"dt_ts\", F.to_timestamp(F.col(\"dt\"))) \\\n",
    "    .withColumn(\"sys_sunrise_ts\", F.to_timestamp(F.col(\"sys_sunrise\"))) \\\n",
    "    .withColumn(\"sys_sunset_ts\", F.to_timestamp(F.col(\"sys_sunset\"))) \\\n",
    "    .drop(\"dt\", \"sys_sunrise\", \"sys_sunset\")"
   ]
  },
  {
   "cell_type": "code",
   "execution_count": null,
   "id": "5b89743f-26ad-4ff9-bf44-59dd77979fea",
   "metadata": {},
   "outputs": [],
   "source": [
    "%%time\n",
    "\n",
    "df_flat.show()"
   ]
  },
  {
   "cell_type": "code",
   "execution_count": null,
   "id": "fda15334-8ce6-49e2-8a57-f5f0f22246e4",
   "metadata": {},
   "outputs": [],
   "source": [
    "df_flat.printSchema()"
   ]
  },
  {
   "cell_type": "code",
   "execution_count": null,
   "id": "47796998",
   "metadata": {},
   "outputs": [],
   "source": [
    "%%time\n",
    "\n",
    "df_flat.write.mode(\"overwrite\").parquet(hdfs_output_v1)"
   ]
  },
  {
   "cell_type": "code",
   "execution_count": null,
   "id": "dde296fa-5422-4061-8975-cb78ee4c2264",
   "metadata": {},
   "outputs": [],
   "source": [
    "%%time\n",
    "\n",
    "df_flat.coalesce(1).write.mode(\"overwrite\").parquet(hdfs_output_v2)"
   ]
  },
  {
   "cell_type": "code",
   "execution_count": null,
   "id": "b3f00461-ce14-4cf9-90da-27b534b6ef91",
   "metadata": {},
   "outputs": [],
   "source": [
    "%%time\n",
    "\n",
    "df_flat.coalesce(1).write.mode(\"overwrite\").format(\"orc\").save(hdfs_output_orc)"
   ]
  },
  {
   "cell_type": "code",
   "execution_count": null,
   "id": "04eb9e83-3d89-4c93-b28c-97d3791ae760",
   "metadata": {},
   "outputs": [],
   "source": [
    "%%time\n",
    "\n",
    "df_read = spark.read.parquet(hdfs_output_v1)\n",
    "df_read.show(5, truncate=False)"
   ]
  },
  {
   "cell_type": "code",
   "execution_count": null,
   "id": "b5fc6312-38f0-4466-a708-16956b2c5191",
   "metadata": {},
   "outputs": [],
   "source": [
    "%%time\n",
    "\n",
    "df_read.printSchema()"
   ]
  },
  {
   "cell_type": "code",
   "execution_count": null,
   "id": "e1a8e7b7-9429-4ec8-9633-81a6543b1ae1",
   "metadata": {},
   "outputs": [],
   "source": [
    "%%time\n",
    "\n",
    "df_read = spark.read.parquet(hdfs_output_v2)\n",
    "df_read.show(5, truncate=False)"
   ]
  },
  {
   "cell_type": "code",
   "execution_count": null,
   "id": "cb6325a7-0d38-4acc-8fd8-3938fd7c4293",
   "metadata": {},
   "outputs": [],
   "source": [
    "%%time\n",
    "\n",
    "df_read.printSchema()"
   ]
  },
  {
   "cell_type": "code",
   "execution_count": null,
   "id": "c0efe2f2-218d-4e4e-ab85-149e2bc6a89f",
   "metadata": {},
   "outputs": [],
   "source": [
    "%%time\n",
    "\n",
    "df_read = spark.read.orc(hdfs_output_orc)\n",
    "df_read.show(5, truncate=False)"
   ]
  },
  {
   "cell_type": "code",
   "execution_count": null,
   "id": "6623ab8a-62ac-458f-8030-9ef012ed05ce",
   "metadata": {},
   "outputs": [],
   "source": [
    "%%time\n",
    "\n",
    "df_read.printSchema()"
   ]
  },
  {
   "cell_type": "code",
   "execution_count": null,
   "id": "2417128a-ddb7-4bd2-b8f8-9f87afa371ad",
   "metadata": {},
   "outputs": [],
   "source": [
    "spark.stop()"
   ]
  }
 ],
 "metadata": {
  "kernelspec": {
   "display_name": "big-data-stack-examples",
   "language": "python",
   "name": "python3"
  },
  "language_info": {
   "codemirror_mode": {
    "name": "ipython",
    "version": 3
   },
   "file_extension": ".py",
   "mimetype": "text/x-python",
   "name": "python",
   "nbconvert_exporter": "python",
   "pygments_lexer": "ipython3",
   "version": "3.13.1"
  }
 },
 "nbformat": 4,
 "nbformat_minor": 5
}
